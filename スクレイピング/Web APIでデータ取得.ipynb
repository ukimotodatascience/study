{
 "cells": [
  {
   "cell_type": "markdown",
   "metadata": {},
   "source": [
    "【Python Web APIでデータ取得】requestsの使い方解説！ 〜 初心者向け 〜 プログラミング入門\n",
    "\n",
    "https://www.youtube.com/watch?v=2vHAOVp9S4U&list=WL&index=267"
   ]
  },
  {
   "cell_type": "code",
   "execution_count": 2,
   "metadata": {},
   "outputs": [],
   "source": [
    "import requests"
   ]
  },
  {
   "cell_type": "code",
   "execution_count": 3,
   "metadata": {},
   "outputs": [
    {
     "name": "stdout",
     "output_type": "stream",
     "text": [
      "{\n",
      "\t\"message\": null,\n",
      "\t\"results\": [\n",
      "\t\t{\n",
      "\t\t\t\"address1\": \"東京都\",\n",
      "\t\t\t\"address2\": \"千代田区\",\n",
      "\t\t\t\"address3\": \"千代田\",\n",
      "\t\t\t\"kana1\": \"ﾄｳｷｮｳﾄ\",\n",
      "\t\t\t\"kana2\": \"ﾁﾖﾀﾞｸ\",\n",
      "\t\t\t\"kana3\": \"ﾁﾖﾀﾞ\",\n",
      "\t\t\t\"prefcode\": \"13\",\n",
      "\t\t\t\"zipcode\": \"1000001\"\n",
      "\t\t}\n",
      "\t],\n",
      "\t\"status\": 200\n",
      "}\n"
     ]
    }
   ],
   "source": [
    "res = requests.get('https://zipcloud.ibsnet.co.jp/api/search?zipcode=1000001')\n",
    "#res = requests.get('https://zipcloud.ibsnet.co.jp/api/search',params={'zipcode':'1000001'})\n",
    "print(res.text)"
   ]
  },
  {
   "cell_type": "code",
   "execution_count": 4,
   "metadata": {},
   "outputs": [
    {
     "name": "stdout",
     "output_type": "stream",
     "text": [
      "東京都千代田区千代田\n"
     ]
    }
   ],
   "source": [
    "res_json = res.json()\n",
    "results = res_json['results'][0]\n",
    "address = results['address1'] + results['address2'] + results['address3']\n",
    "print(address)"
   ]
  },
  {
   "cell_type": "code",
   "execution_count": null,
   "metadata": {},
   "outputs": [],
   "source": []
  }
 ],
 "metadata": {
  "kernelspec": {
   "display_name": "Python 3",
   "language": "python",
   "name": "python3"
  },
  "language_info": {
   "codemirror_mode": {
    "name": "ipython",
    "version": 3
   },
   "file_extension": ".py",
   "mimetype": "text/x-python",
   "name": "python",
   "nbconvert_exporter": "python",
   "pygments_lexer": "ipython3",
   "version": "3.11.1"
  }
 },
 "nbformat": 4,
 "nbformat_minor": 2
}
