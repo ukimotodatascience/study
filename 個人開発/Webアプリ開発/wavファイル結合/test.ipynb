{
 "cells": [
  {
   "cell_type": "code",
   "execution_count": 1,
   "metadata": {},
   "outputs": [],
   "source": [
    "import wave\n",
    "import contextlib"
   ]
  },
  {
   "cell_type": "code",
   "execution_count": 10,
   "metadata": {},
   "outputs": [],
   "source": [
    "def combine_wav_files(input_files, output_file):\n",
    "    with wave.open(input_files[0], 'rb') as wf:\n",
    "        params = wf.getparams()\n",
    "        frames = wf.readframes(wf.getnframes())\n",
    "\n",
    "    with wave.open(output_file, 'wb') as output:\n",
    "        output.setparams(params)\n",
    "        output.writeframes(frames)\n",
    "\n",
    "        for infile in input_files[1:]:\n",
    "            with wave.open(infile, 'rb') as wf:\n",
    "                # if wf.getparams() != params:\n",
    "                #     raise ValueError(f\"フォーマットが一致しません: {infile}\")\n",
    "                frames = wf.readframes(wf.getnframes())\n",
    "                output.writeframes(frames)\n",
    "\n",
    "input_files = [\n",
    "    '001.wav',\n",
    "    '002.wav',\n",
    "    '003.wav',\n",
    "    '004.wav',\n",
    "    '005.wav',\n",
    "    '006.wav',\n",
    "]\n",
    "output_file = 'クロージングトーク.wav'\n",
    "combine_wav_files(input_files, output_file)"
   ]
  },
  {
   "cell_type": "code",
   "execution_count": null,
   "metadata": {},
   "outputs": [],
   "source": []
  }
 ],
 "metadata": {
  "kernelspec": {
   "display_name": ".venv",
   "language": "python",
   "name": "python3"
  },
  "language_info": {
   "codemirror_mode": {
    "name": "ipython",
    "version": 3
   },
   "file_extension": ".py",
   "mimetype": "text/x-python",
   "name": "python",
   "nbconvert_exporter": "python",
   "pygments_lexer": "ipython3",
   "version": "3.10.11"
  }
 },
 "nbformat": 4,
 "nbformat_minor": 2
}
