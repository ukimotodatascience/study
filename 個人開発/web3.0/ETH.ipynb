{
 "cells": [
  {
   "cell_type": "code",
   "execution_count": 4,
   "metadata": {},
   "outputs": [],
   "source": [
    "import requests\n",
    "import pandas as pd\n",
    "import os\n",
    "from dotenv import load_dotenv"
   ]
  },
  {
   "cell_type": "markdown",
   "metadata": {},
   "source": [
    "### 環境設定"
   ]
  },
  {
   "cell_type": "code",
   "execution_count": 11,
   "metadata": {},
   "outputs": [],
   "source": [
    "# .env ファイルの読み込み\n",
    "load_dotenv()\n",
    "\n",
    "# 環境変数の取得\n",
    "API_KEY = os.getenv(\"ETHERSCAN_API_KEY\")\n",
    "TOKEN_CONTRACT = \"0xdAC17F958D2ee523a2206206994597C13D831ec7\"  # USDTのコントラクトアドレス"
   ]
  },
  {
   "cell_type": "markdown",
   "metadata": {},
   "source": [
    "### Ethreumのトークン取引履歴（USDTの最新100件）を取得"
   ]
  },
  {
   "cell_type": "code",
   "execution_count": 21,
   "metadata": {},
   "outputs": [
    {
     "name": "stderr",
     "output_type": "stream",
     "text": [
      "C:\\Users\\fuben\\AppData\\Local\\Temp\\ipykernel_30468\\154228592.py:18: FutureWarning: The behavior of 'to_datetime' with 'unit' when parsing strings is deprecated. In a future version, strings will be parsed as datetime strings, matching the behavior without a 'unit'. To retain the old behavior, explicitly cast ints or floats to numeric type before calling to_datetime.\n",
      "  df['timeStamp'] = pd.to_datetime(df['timeStamp'], unit='s')\n"
     ]
    },
    {
     "data": {
      "text/html": [
       "<div>\n",
       "<style scoped>\n",
       "    .dataframe tbody tr th:only-of-type {\n",
       "        vertical-align: middle;\n",
       "    }\n",
       "\n",
       "    .dataframe tbody tr th {\n",
       "        vertical-align: top;\n",
       "    }\n",
       "\n",
       "    .dataframe thead th {\n",
       "        text-align: right;\n",
       "    }\n",
       "</style>\n",
       "<table border=\"1\" class=\"dataframe\">\n",
       "  <thead>\n",
       "    <tr style=\"text-align: right;\">\n",
       "      <th></th>\n",
       "      <th>timeStamp</th>\n",
       "      <th>from</th>\n",
       "      <th>to</th>\n",
       "      <th>value</th>\n",
       "      <th>tokenSymbol</th>\n",
       "    </tr>\n",
       "  </thead>\n",
       "  <tbody>\n",
       "    <tr>\n",
       "      <th>0</th>\n",
       "      <td>2025-02-19 12:43:44</td>\n",
       "      <td>0x0ada3111b866ff1ad0477f0c5d2e8ed35a36eb5b</td>\n",
       "      <td>0xdae10aaaa4193f38db99ca6eb235ac79e94525ce</td>\n",
       "      <td>50.031455</td>\n",
       "      <td>USDT</td>\n",
       "    </tr>\n",
       "    <tr>\n",
       "      <th>1</th>\n",
       "      <td>2025-02-19 12:43:44</td>\n",
       "      <td>0x22863c875e6b7519141cb8394f2220fac7e6ade6</td>\n",
       "      <td>0xd315a9c38ec871068fec378e4ce78af528c76293</td>\n",
       "      <td>90.514241</td>\n",
       "      <td>USDT</td>\n",
       "    </tr>\n",
       "    <tr>\n",
       "      <th>2</th>\n",
       "      <td>2025-02-19 12:43:44</td>\n",
       "      <td>0x7b9b5876ecaef604ab0ff964f6ccc801198b2597</td>\n",
       "      <td>0x22863c875e6b7519141cb8394f2220fac7e6ade6</td>\n",
       "      <td>90.514241</td>\n",
       "      <td>USDT</td>\n",
       "    </tr>\n",
       "    <tr>\n",
       "      <th>3</th>\n",
       "      <td>2025-02-19 12:43:44</td>\n",
       "      <td>0x66a9893cc07d91d95644aedd05d03f95e1dba8af</td>\n",
       "      <td>0x46139c6b5cf640031647e2cc6e3df808c8f60d0d</td>\n",
       "      <td>50000.000000</td>\n",
       "      <td>USDT</td>\n",
       "    </tr>\n",
       "    <tr>\n",
       "      <th>4</th>\n",
       "      <td>2025-02-19 12:43:44</td>\n",
       "      <td>0x66a9893cc07d91d95644aedd05d03f95e1dba8af</td>\n",
       "      <td>0x000000fee13a103a10d593b9ae06b3e05f2e7e1c</td>\n",
       "      <td>125.000000</td>\n",
       "      <td>USDT</td>\n",
       "    </tr>\n",
       "    <tr>\n",
       "      <th>...</th>\n",
       "      <td>...</td>\n",
       "      <td>...</td>\n",
       "      <td>...</td>\n",
       "      <td>...</td>\n",
       "      <td>...</td>\n",
       "    </tr>\n",
       "    <tr>\n",
       "      <th>995</th>\n",
       "      <td>2025-02-19 12:39:28</td>\n",
       "      <td>0x3416cf6c708da44db2624d63ea0aaef7113527c6</td>\n",
       "      <td>0x663dc15d3c1ac63ff12e45ab68fea3f0a883c251</td>\n",
       "      <td>6135.335610</td>\n",
       "      <td>USDT</td>\n",
       "    </tr>\n",
       "    <tr>\n",
       "      <th>996</th>\n",
       "      <td>2025-02-19 12:39:28</td>\n",
       "      <td>0xc611ec3dbf324ac68f658e9f2e567811750f6d07</td>\n",
       "      <td>0xdabafcdd34273ab041aeebb0306dfdb7d3be0e55</td>\n",
       "      <td>5.000000</td>\n",
       "      <td>USDT</td>\n",
       "    </tr>\n",
       "    <tr>\n",
       "      <th>997</th>\n",
       "      <td>2025-02-19 12:39:28</td>\n",
       "      <td>0x66a9893cc07d91d95644aedd05d03f95e1dba8af</td>\n",
       "      <td>0x7b9b5876ecaef604ab0ff964f6ccc801198b2597</td>\n",
       "      <td>90.514241</td>\n",
       "      <td>USDT</td>\n",
       "    </tr>\n",
       "    <tr>\n",
       "      <th>998</th>\n",
       "      <td>2025-02-19 12:39:28</td>\n",
       "      <td>0x66a9893cc07d91d95644aedd05d03f95e1dba8af</td>\n",
       "      <td>0x000000fee13a103a10d593b9ae06b3e05f2e7e1c</td>\n",
       "      <td>0.226852</td>\n",
       "      <td>USDT</td>\n",
       "    </tr>\n",
       "    <tr>\n",
       "      <th>999</th>\n",
       "      <td>2025-02-19 12:39:28</td>\n",
       "      <td>0x11b815efb8f581194ae79006d24e0d814b7697f6</td>\n",
       "      <td>0x66a9893cc07d91d95644aedd05d03f95e1dba8af</td>\n",
       "      <td>90.741093</td>\n",
       "      <td>USDT</td>\n",
       "    </tr>\n",
       "  </tbody>\n",
       "</table>\n",
       "<p>1000 rows × 5 columns</p>\n",
       "</div>"
      ],
      "text/plain": [
       "              timeStamp                                        from  \\\n",
       "0   2025-02-19 12:43:44  0x0ada3111b866ff1ad0477f0c5d2e8ed35a36eb5b   \n",
       "1   2025-02-19 12:43:44  0x22863c875e6b7519141cb8394f2220fac7e6ade6   \n",
       "2   2025-02-19 12:43:44  0x7b9b5876ecaef604ab0ff964f6ccc801198b2597   \n",
       "3   2025-02-19 12:43:44  0x66a9893cc07d91d95644aedd05d03f95e1dba8af   \n",
       "4   2025-02-19 12:43:44  0x66a9893cc07d91d95644aedd05d03f95e1dba8af   \n",
       "..                  ...                                         ...   \n",
       "995 2025-02-19 12:39:28  0x3416cf6c708da44db2624d63ea0aaef7113527c6   \n",
       "996 2025-02-19 12:39:28  0xc611ec3dbf324ac68f658e9f2e567811750f6d07   \n",
       "997 2025-02-19 12:39:28  0x66a9893cc07d91d95644aedd05d03f95e1dba8af   \n",
       "998 2025-02-19 12:39:28  0x66a9893cc07d91d95644aedd05d03f95e1dba8af   \n",
       "999 2025-02-19 12:39:28  0x11b815efb8f581194ae79006d24e0d814b7697f6   \n",
       "\n",
       "                                             to         value tokenSymbol  \n",
       "0    0xdae10aaaa4193f38db99ca6eb235ac79e94525ce     50.031455        USDT  \n",
       "1    0xd315a9c38ec871068fec378e4ce78af528c76293     90.514241        USDT  \n",
       "2    0x22863c875e6b7519141cb8394f2220fac7e6ade6     90.514241        USDT  \n",
       "3    0x46139c6b5cf640031647e2cc6e3df808c8f60d0d  50000.000000        USDT  \n",
       "4    0x000000fee13a103a10d593b9ae06b3e05f2e7e1c    125.000000        USDT  \n",
       "..                                          ...           ...         ...  \n",
       "995  0x663dc15d3c1ac63ff12e45ab68fea3f0a883c251   6135.335610        USDT  \n",
       "996  0xdabafcdd34273ab041aeebb0306dfdb7d3be0e55      5.000000        USDT  \n",
       "997  0x7b9b5876ecaef604ab0ff964f6ccc801198b2597     90.514241        USDT  \n",
       "998  0x000000fee13a103a10d593b9ae06b3e05f2e7e1c      0.226852        USDT  \n",
       "999  0x66a9893cc07d91d95644aedd05d03f95e1dba8af     90.741093        USDT  \n",
       "\n",
       "[1000 rows x 5 columns]"
      ]
     },
     "execution_count": 21,
     "metadata": {},
     "output_type": "execute_result"
    }
   ],
   "source": [
    "# 取得する取引件数\n",
    "transactions = 1000\n",
    "\n",
    "# APIリクエストURL\n",
    "url = f\"https://api.etherscan.io/api?module=account&action=tokentx&contractaddress={TOKEN_CONTRACT}&page=1&offset={transactions}&sort=desc&apikey={API_KEY}\"\n",
    "\n",
    "# データ取得\n",
    "response = requests.get(url)\n",
    "data = response.json()\n",
    "\n",
    "# データをDataFrameに変換\n",
    "df = pd.DataFrame(data['result'])\n",
    "\n",
    "# 必要なカラムを選択\n",
    "df = df[['timeStamp', 'from', 'to', 'value', 'tokenSymbol']]\n",
    "\n",
    "# タイムスタンプを日時変換\n",
    "df['timeStamp'] = pd.to_datetime(df['timeStamp'], unit='s')\n",
    "\n",
    "# トークンの値を整数変換（USDTは小数点6桁分シフト）\n",
    "df['value'] = df['value'].astype(float) / 10**6\n",
    "\n",
    "# データ表示\n",
    "df"
   ]
  },
  {
   "cell_type": "markdown",
   "metadata": {},
   "source": [
    "### 取引量の多いアドレスをリストアップ"
   ]
  },
  {
   "cell_type": "code",
   "execution_count": 22,
   "metadata": {},
   "outputs": [
    {
     "name": "stdout",
     "output_type": "stream",
     "text": [
      "                                         address    sent_value  \\\n",
      "3     0x0069d78b885f690964467c1b7ce5ad85ed076854  8.000000e+06   \n",
      "103   0x28c6c06298d514db089934071355e5743bf21d60  2.832786e+05   \n",
      "550   0xceb69f6342ece283b2f5c9088ff249b5d0ae66ea  8.000000e+06   \n",
      "484   0xb514696767c2ad24fc6b7a66c2f284e04284fcc5  3.467575e+06   \n",
      "777   0x2eb2832361a8c9fc6dbccb6339c567983da233aa  0.000000e+00   \n",
      "468   0xade1e3b40b58e51df923cfbffcfb3502a5b07d1a  8.701610e+05   \n",
      "1152  0xcffad3200574698b78f32232aa9d63eabd290703  0.000000e+00   \n",
      "665   0xfd9238dcd679316c6a95c08490e049fcaa9c979e  1.611117e+06   \n",
      "664   0xfd6ead5eab787df0decf409f6b088312e7b38e6b  7.689870e+05   \n",
      "514   0xbebc44782c7db0a1a60cb6fe97d0b483032ff1c7  8.701610e+05   \n",
      "\n",
      "      received_value   total_value  \n",
      "3       8.000000e+06  1.600000e+07  \n",
      "103     9.605314e+06  9.888592e+06  \n",
      "550     0.000000e+00  8.000000e+06  \n",
      "484     0.000000e+00  3.467575e+06  \n",
      "777     3.467575e+06  3.467575e+06  \n",
      "468     8.701610e+05  1.740322e+06  \n",
      "1152    1.645522e+06  1.645522e+06  \n",
      "665     0.000000e+00  1.611117e+06  \n",
      "664     7.689870e+05  1.537974e+06  \n",
      "514     5.002955e+05  1.370457e+06  \n"
     ]
    }
   ],
   "source": [
    "# アドレスごとの取引量（送信量＋受信量）\n",
    "top_senders = df.groupby('from')['value'].sum().reset_index().rename(columns={'from': 'address', 'value': 'sent_value'})\n",
    "top_receivers = df.groupby('to')['value'].sum().reset_index().rename(columns={'to': 'address', 'value': 'received_value'})\n",
    "\n",
    "# 送信と受信のデータをマージ\n",
    "top_addresses = pd.merge(top_senders, top_receivers, on=\"address\", how=\"outer\").fillna(0)\n",
    "\n",
    "# 合計取引量を算出\n",
    "top_addresses[\"total_value\"] = top_addresses[\"sent_value\"] + top_addresses[\"received_value\"]\n",
    "\n",
    "# 取引量の多い順に並び替え\n",
    "top_addresses = top_addresses.sort_values(by=\"total_value\", ascending=False)\n",
    "\n",
    "# 上位10アドレス表示\n",
    "print(top_addresses.head(10))"
   ]
  },
  {
   "cell_type": "markdown",
   "metadata": {},
   "source": [
    "### 1日の取引数の推移を可視化"
   ]
  },
  {
   "cell_type": "code",
   "execution_count": 26,
   "metadata": {},
   "outputs": [
    {
     "data": {
      "image/png": "[encoded data removed]",
      "text/plain": [
       "<Figure size 1000x500 with 1 Axes>"
      ]
     },
     "metadata": {},
     "output_type": "display_data"
    }
   ],
   "source": [
    "import matplotlib.pyplot as plt\n",
    "\n",
    "# 日ごとの取引数を集計\n",
    "df['date'] = df['timeStamp'].dt.date\n",
    "# 1時間ごとの取引数を集計\n",
    "# df['date'] = df['timeStamp'].dt.hour\n",
    "# 1分ごとの取引数を集計\n",
    "# df['date'] = df['timeStamp'].dt.minute\n",
    "daily_transactions = df.groupby('date').size()\n",
    "\n",
    "# 可視化\n",
    "plt.figure(figsize=(10,5))\n",
    "plt.plot(daily_transactions.index, daily_transactions.values, marker='o', linestyle='-')\n",
    "plt.xlabel(\"Date\")\n",
    "plt.ylabel(\"Transaction Count\")\n",
    "plt.title(\"USDT Daily Transactions\")\n",
    "plt.xticks(rotation=45)\n",
    "plt.grid()\n",
    "plt.show()"
   ]
  },
  {
   "cell_type": "code",
   "execution_count": 10,
   "metadata": {},
   "outputs": [
    {
     "name": "stderr",
     "output_type": "stream",
     "text": [
      "2025-02-19 21:33:12.989 WARNING streamlit.runtime.scriptrunner_utils.script_run_context: Thread 'MainThread': missing ScriptRunContext! This warning can be ignored when running in bare mode.\n",
      "2025-02-19 21:33:13.257 \n",
      "  \u001b[33m\u001b[1mWarning:\u001b[0m to view this Streamlit app on a browser, run it with the following\n",
      "  command:\n",
      "\n",
      "    streamlit run C:\\Users\\fuben\\AppData\\Roaming\\Python\\Python310\\site-packages\\ipykernel_launcher.py [ARGUMENTS]\n",
      "2025-02-19 21:33:13.257 Thread 'MainThread': missing ScriptRunContext! This warning can be ignored when running in bare mode.\n",
      "2025-02-19 21:33:13.257 Thread 'MainThread': missing ScriptRunContext! This warning can be ignored when running in bare mode.\n",
      "2025-02-19 21:33:13.258 Thread 'MainThread': missing ScriptRunContext! This warning can be ignored when running in bare mode.\n",
      "2025-02-19 21:33:13.258 Thread 'MainThread': missing ScriptRunContext! This warning can be ignored when running in bare mode.\n",
      "2025-02-19 21:33:13.258 Thread 'MainThread': missing ScriptRunContext! This warning can be ignored when running in bare mode.\n",
      "2025-02-19 21:33:13.275 Thread 'MainThread': missing ScriptRunContext! This warning can be ignored when running in bare mode.\n",
      "2025-02-19 21:33:13.275 Thread 'MainThread': missing ScriptRunContext! This warning can be ignored when running in bare mode.\n",
      "2025-02-19 21:33:13.275 Thread 'MainThread': missing ScriptRunContext! This warning can be ignored when running in bare mode.\n",
      "2025-02-19 21:33:13.277 Thread 'MainThread': missing ScriptRunContext! This warning can be ignored when running in bare mode.\n",
      "2025-02-19 21:33:13.277 Thread 'MainThread': missing ScriptRunContext! This warning can be ignored when running in bare mode.\n",
      "2025-02-19 21:33:13.278 Thread 'MainThread': missing ScriptRunContext! This warning can be ignored when running in bare mode.\n",
      "2025-02-19 21:33:13.279 Thread 'MainThread': missing ScriptRunContext! This warning can be ignored when running in bare mode.\n",
      "2025-02-19 21:33:13.280 Thread 'MainThread': missing ScriptRunContext! This warning can be ignored when running in bare mode.\n",
      "2025-02-19 21:33:13.280 Thread 'MainThread': missing ScriptRunContext! This warning can be ignored when running in bare mode.\n",
      "2025-02-19 21:33:13.280 Thread 'MainThread': missing ScriptRunContext! This warning can be ignored when running in bare mode.\n",
      "2025-02-19 21:33:13.280 Thread 'MainThread': missing ScriptRunContext! This warning can be ignored when running in bare mode.\n",
      "2025-02-19 21:33:13.280 Thread 'MainThread': missing ScriptRunContext! This warning can be ignored when running in bare mode.\n",
      "2025-02-19 21:33:13.475 Thread 'MainThread': missing ScriptRunContext! This warning can be ignored when running in bare mode.\n",
      "2025-02-19 21:33:13.476 Thread 'MainThread': missing ScriptRunContext! This warning can be ignored when running in bare mode.\n",
      "2025-02-19 21:33:13.476 Thread 'MainThread': missing ScriptRunContext! This warning can be ignored when running in bare mode.\n",
      "2025-02-19 21:33:13.477 Thread 'MainThread': missing ScriptRunContext! This warning can be ignored when running in bare mode.\n",
      "2025-02-19 21:33:13.477 Thread 'MainThread': missing ScriptRunContext! This warning can be ignored when running in bare mode.\n",
      "2025-02-19 21:33:13.478 Thread 'MainThread': missing ScriptRunContext! This warning can be ignored when running in bare mode.\n"
     ]
    }
   ],
   "source": [
    "import streamlit as st\n",
    "\n",
    "st.title(\"Ethereum トークン取引分析\")\n",
    "\n",
    "# 最新のデータ取得\n",
    "st.write(\"### 最新のUSDT取引データ\")\n",
    "st.dataframe(df.head(10))\n",
    "\n",
    "# 取引量の多いアドレス\n",
    "st.write(\"### 取引量の多いアドレス\")\n",
    "st.dataframe(top_addresses.head(10))\n",
    "\n",
    "# 日ごとの取引数のグラフ\n",
    "st.write(\"### USDTの1日ごとの取引数\")\n",
    "st.line_chart(daily_transactions)\n",
    "\n",
    "st.write(\"データソース: Etherscan API\")"
   ]
  },
  {
   "cell_type": "code",
   "execution_count": null,
   "metadata": {},
   "outputs": [],
   "source": []
  }
 ],
 "metadata": {
  "kernelspec": {
   "display_name": "Python 3",
   "language": "python",
   "name": "python3"
  },
  "language_info": {
   "codemirror_mode": {
    "name": "ipython",
    "version": 3
   },
   "file_extension": ".py",
   "mimetype": "text/x-python",
   "name": "python",
   "nbconvert_exporter": "python",
   "pygments_lexer": "ipython3",
   "version": "3.10.5"
  }
 },
 "nbformat": 4,
 "nbformat_minor": 2
}
